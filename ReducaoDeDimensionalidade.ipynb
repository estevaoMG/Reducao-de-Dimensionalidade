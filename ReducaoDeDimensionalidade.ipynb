{
  "nbformat": 4,
  "nbformat_minor": 0,
  "metadata": {
    "colab": {
      "provenance": [],
      "authorship_tag": "ABX9TyNFnizvNBdrpWJb1C8+Lmd9",
      "include_colab_link": true
    },
    "kernelspec": {
      "name": "python3",
      "display_name": "Python 3"
    },
    "language_info": {
      "name": "python"
    }
  },
  "cells": [
    {
      "cell_type": "markdown",
      "metadata": {
        "id": "view-in-github",
        "colab_type": "text"
      },
      "source": [
        "<a href=\"https://colab.research.google.com/github/estevaoMG/Reducao-de-Dimensionalidade/blob/main/ReducaoDeDimensionalidade.ipynb\" target=\"_parent\"><img src=\"https://colab.research.google.com/assets/colab-badge.svg\" alt=\"Open In Colab\"/></a>"
      ]
    },
    {
      "cell_type": "code",
      "source": [
        "# Função para carregar PPM P6 (binário)\n",
        "def carregar_ppm_p6(caminho):\n",
        "    with open(caminho, \"rb\") as f:\n",
        "        formato = f.readline().strip()\n",
        "        if formato != b\"P6\":\n",
        "            raise ValueError(\"Formato não suportado, use P6 (binário).\")\n",
        "\n",
        "        linha = f.readline().strip()\n",
        "        while linha.startswith(b\"#\"):\n",
        "            linha = f.readline().strip()\n",
        "\n",
        "        largura, altura = map(int, linha.split())\n",
        "        max_valor = int(f.readline().strip())\n",
        "\n",
        "        dados = f.read()\n",
        "        pixels = []\n",
        "        idx = 0\n",
        "        for _ in range(altura):\n",
        "            linha_pixels = []\n",
        "            for _ in range(largura):\n",
        "                r = dados[idx]; g = dados[idx+1]; b = dados[idx+2]\n",
        "                linha_pixels.append((r, g, b))\n",
        "                idx += 3\n",
        "            pixels.append(linha_pixels)\n",
        "        return pixels, largura, altura, max_valor\n",
        "\n",
        "# Converter RGB para cinza\n",
        "def rgb_para_cinza(imagem):\n",
        "    altura = len(imagem)\n",
        "    largura = len(imagem[0])\n",
        "    cinza = []\n",
        "    for i in range(altura):\n",
        "        linha = []\n",
        "        for j in range(largura):\n",
        "            r, g, b = imagem[i][j]\n",
        "            valor = int(0.299*r + 0.587*g + 0.114*b)\n",
        "            linha.append(valor)\n",
        "        cinza.append(linha)\n",
        "    return cinza\n",
        "\n",
        "# Binarizar a imagem\n",
        "def binarizar(imagem_cinza, limiar=127):\n",
        "    altura = len(imagem_cinza)\n",
        "    largura = len(imagem_cinza[0])\n",
        "    binaria = []\n",
        "    for i in range(altura):\n",
        "        linha = []\n",
        "        for j in range(largura):\n",
        "            linha.append(255 if imagem_cinza[i][j] >= limiar else 0)\n",
        "        binaria.append(linha)\n",
        "    return binaria\n",
        "\n",
        "# Salvar imagem PGM\n",
        "def salvar_pgm(caminho, imagem, largura, altura, max_valor=255):\n",
        "    with open(caminho, \"w\") as f:\n",
        "        f.write(\"P2\\n\")  # P2 = PGM texto\n",
        "        f.write(f\"{largura} {altura}\\n\")\n",
        "        f.write(f\"{max_valor}\\n\")\n",
        "        for linha in imagem:\n",
        "            f.write(\" \".join(str(v) for v in linha) + \"\\n\")\n",
        "\n",
        "# ---------------------- EXECUÇÃO ----------------------\n",
        "# Substitua \"lena.ppm\" pelo caminho do seu arquivo\n",
        "imagem_rgb, largura, altura, _ = carregar_ppm_p6(\"a-original-Lena-image-512x512-b-15-of-the-pixels-of-te-input-image-randomly-chosen.ppm\")\n",
        "\n",
        "imagem_cinza = rgb_para_cinza(imagem_rgb)\n",
        "imagem_binaria = binarizar(imagem_cinza, 127)\n",
        "\n",
        "salvar_pgm(\"lena_cinza.pgm\", imagem_cinza, largura, altura)\n",
        "salvar_pgm(\"lena_binaria.pgm\", imagem_binaria, largura, altura)\n",
        "\n",
        "print(\"Arquivos gerados: lena_cinza.pgm e lena_binaria.pgm\")"
      ],
      "metadata": {
        "colab": {
          "base_uri": "https://localhost:8080/"
        },
        "id": "c4kcM1nqt68_",
        "outputId": "66bc45aa-7084-4617-fc89-70d52b71f4da"
      },
      "execution_count": 7,
      "outputs": [
        {
          "output_type": "stream",
          "name": "stdout",
          "text": [
            "Arquivos gerados: lena_cinza.pgm e lena_binaria.pgm\n"
          ]
        }
      ]
    },
    {
      "cell_type": "code",
      "source": [
        "from google.colab import files\n",
        "\n",
        "# Baixar imagens geradas\n",
        "files.download(\"lena_cinza.pgm\")\n",
        "files.download(\"lena_binaria.pgm\")\n"
      ],
      "metadata": {
        "colab": {
          "base_uri": "https://localhost:8080/",
          "height": 17
        },
        "id": "EV3sL-FturW3",
        "outputId": "92bc2477-eda1-4f4e-ab79-38c1a76209b9"
      },
      "execution_count": 8,
      "outputs": [
        {
          "output_type": "display_data",
          "data": {
            "text/plain": [
              "<IPython.core.display.Javascript object>"
            ],
            "application/javascript": [
              "\n",
              "    async function download(id, filename, size) {\n",
              "      if (!google.colab.kernel.accessAllowed) {\n",
              "        return;\n",
              "      }\n",
              "      const div = document.createElement('div');\n",
              "      const label = document.createElement('label');\n",
              "      label.textContent = `Downloading \"${filename}\": `;\n",
              "      div.appendChild(label);\n",
              "      const progress = document.createElement('progress');\n",
              "      progress.max = size;\n",
              "      div.appendChild(progress);\n",
              "      document.body.appendChild(div);\n",
              "\n",
              "      const buffers = [];\n",
              "      let downloaded = 0;\n",
              "\n",
              "      const channel = await google.colab.kernel.comms.open(id);\n",
              "      // Send a message to notify the kernel that we're ready.\n",
              "      channel.send({})\n",
              "\n",
              "      for await (const message of channel.messages) {\n",
              "        // Send a message to notify the kernel that we're ready.\n",
              "        channel.send({})\n",
              "        if (message.buffers) {\n",
              "          for (const buffer of message.buffers) {\n",
              "            buffers.push(buffer);\n",
              "            downloaded += buffer.byteLength;\n",
              "            progress.value = downloaded;\n",
              "          }\n",
              "        }\n",
              "      }\n",
              "      const blob = new Blob(buffers, {type: 'application/binary'});\n",
              "      const a = document.createElement('a');\n",
              "      a.href = window.URL.createObjectURL(blob);\n",
              "      a.download = filename;\n",
              "      div.appendChild(a);\n",
              "      a.click();\n",
              "      div.remove();\n",
              "    }\n",
              "  "
            ]
          },
          "metadata": {}
        },
        {
          "output_type": "display_data",
          "data": {
            "text/plain": [
              "<IPython.core.display.Javascript object>"
            ],
            "application/javascript": [
              "download(\"download_17a355db-f9cc-4e3d-adc8-c6d33ef69f17\", \"lena_cinza.pgm\", 967047)"
            ]
          },
          "metadata": {}
        },
        {
          "output_type": "display_data",
          "data": {
            "text/plain": [
              "<IPython.core.display.Javascript object>"
            ],
            "application/javascript": [
              "\n",
              "    async function download(id, filename, size) {\n",
              "      if (!google.colab.kernel.accessAllowed) {\n",
              "        return;\n",
              "      }\n",
              "      const div = document.createElement('div');\n",
              "      const label = document.createElement('label');\n",
              "      label.textContent = `Downloading \"${filename}\": `;\n",
              "      div.appendChild(label);\n",
              "      const progress = document.createElement('progress');\n",
              "      progress.max = size;\n",
              "      div.appendChild(progress);\n",
              "      document.body.appendChild(div);\n",
              "\n",
              "      const buffers = [];\n",
              "      let downloaded = 0;\n",
              "\n",
              "      const channel = await google.colab.kernel.comms.open(id);\n",
              "      // Send a message to notify the kernel that we're ready.\n",
              "      channel.send({})\n",
              "\n",
              "      for await (const message of channel.messages) {\n",
              "        // Send a message to notify the kernel that we're ready.\n",
              "        channel.send({})\n",
              "        if (message.buffers) {\n",
              "          for (const buffer of message.buffers) {\n",
              "            buffers.push(buffer);\n",
              "            downloaded += buffer.byteLength;\n",
              "            progress.value = downloaded;\n",
              "          }\n",
              "        }\n",
              "      }\n",
              "      const blob = new Blob(buffers, {type: 'application/binary'});\n",
              "      const a = document.createElement('a');\n",
              "      a.href = window.URL.createObjectURL(blob);\n",
              "      a.download = filename;\n",
              "      div.appendChild(a);\n",
              "      a.click();\n",
              "      div.remove();\n",
              "    }\n",
              "  "
            ]
          },
          "metadata": {}
        },
        {
          "output_type": "display_data",
          "data": {
            "text/plain": [
              "<IPython.core.display.Javascript object>"
            ],
            "application/javascript": [
              "download(\"download_03650431-7f8a-4f6b-a36e-9ed8cbf2a940\", \"lena_binaria.pgm\", 798209)"
            ]
          },
          "metadata": {}
        }
      ]
    }
  ]
}